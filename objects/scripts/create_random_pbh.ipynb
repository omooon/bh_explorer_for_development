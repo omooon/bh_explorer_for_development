{
 "cells": [
  {
   "cell_type": "code",
   "execution_count": 2,
   "metadata": {},
   "outputs": [],
   "source": [
    "import sys\n",
    "import os\n",
    "\n",
    "notebook_directory = os.getcwd()\n",
    "sys.path.append(\n",
    "    os.path.abspath(\n",
    "        os.path.join(os.path.dirname(notebook_directory), '../..')\n",
    "    )\n",
    ")\n",
    "\n",
    "from pbh_explorer.telescopes.fermi_lat.weekly import WeeklyDataAnalysis\n",
    "from pbh_explorer.observations.ObsSnapFermiLAT import ObsSnapFermiLAT\n",
    "from pbh_explorer.objects import AstroObject\n",
    "from pbh_explorer.analysis import ObsOnOff"
   ]
  },
  {
   "cell_type": "code",
   "execution_count": 14,
   "metadata": {},
   "outputs": [
    {
     "name": "stderr",
     "output_type": "stream",
     "text": [
      "The input MapDataset is based on <class 'gammapy.maps.hpx.ndmap.HpxNDMap'>.\n"
     ]
    },
    {
     "name": "stdout",
     "output_type": "stream",
     "text": [
      "Hawking radiation already calculated, skipping.\n"
     ]
    }
   ],
   "source": [
    "weekly = WeeklyDataAnalysis()\n",
    "dataset = weekly.get_map_dataset(map_type=\"hpx\")\n",
    "bkg_map = dataset.background\n",
    "dataset.background = None\n",
    "fermi_obs_snap = ObsSnapFermiLAT(dataset)\n",
    "pbh = AstroObject.PrimordialBlackHole.generate_random_pbh()"
   ]
  },
  {
   "cell_type": "code",
   "execution_count": 15,
   "metadata": {},
   "outputs": [],
   "source": [
    "import copy\n",
    "obs_on = copy.deepcopy(fermi_obs_snap)\n",
    "obs_off = copy.deepcopy(fermi_obs_snap)"
   ]
  },
  {
   "cell_type": "code",
   "execution_count": 16,
   "metadata": {},
   "outputs": [],
   "source": [
    "def add_signal_models(\n",
    "    obs,\n",
    "    signal_models=None,\n",
    "):\n",
    "    \"\"\"\n",
    "    +-- Map RoI --------------+\n",
    "    |                         |\n",
    "    |        Count RoI        |\n",
    "    |      ###       ###      |\n",
    "    |    ##             ##    |\n",
    "    |   ##      * <- BH  ##   |\n",
    "    |    ##             ##    |\n",
    "    |      ###       ###      |\n",
    "    |         #######         |\n",
    "    |                         |\n",
    "    +-------------------------+\n",
    "    \n",
    "    Returns:\n",
    "        masked map: しきい値より小さいピクセルをマスクしたマップ\n",
    "    \"\"\"\n",
    "    if not signal_models:\n",
    "        from gammapy.modeling.models import (\n",
    "            Models,\n",
    "            PointSpatialModel,\n",
    "            PowerLawSpectralModel,\n",
    "            SkyModel,\n",
    "        )\n",
    "        spatial_model = PointSpatialModel(lon_0=\"0 deg\", lat_0=\"0 deg\", frame=\"galactic\")\n",
    "        spectral_model = PowerLawSpectralModel(\n",
    "            index=2.7, amplitude=\"5.8e-10 cm-2 s-1 TeV-1\", reference=\"100 GeV\"\n",
    "        )\n",
    "\n",
    "        source = SkyModel(\n",
    "            spectral_model=spectral_model,\n",
    "            spatial_model=spatial_model,\n",
    "            name=\"source-gc\",\n",
    "        )\n",
    "        signal_models = Models([source])\n",
    "    \n",
    "    if not obs.map_dataset.models:\n",
    "        org_dataset_sig_models = Models([])\n",
    "    else:\n",
    "        org_dataset_sig_models = Models([])\n",
    "        for sky_model in obs.map_dataset.models[:]:\n",
    "            org_dataset_sig_models.append(sky_model)\n",
    "    \n",
    "    obs.map_dataset.models = org_dataset_sig_models + signal_models\n",
    "    print(obs.map_dataset)\n",
    "    return obs\n"
   ]
  },
  {
   "cell_type": "code",
   "execution_count": 28,
   "metadata": {},
   "outputs": [
    {
     "name": "stderr",
     "output_type": "stream",
     "text": [
      "Model source-gc is outside the target geom but contributes inside through the psf.This contribution cannot be estimated precisely.Consider extending the dataset geom and/or the masked margin in the mask_fit.\n",
      "Convolution via WCS projection is not recommended for large maps (> 10 deg). Perhaps the method `convolve_full()` is more suited for this case.\n"
     ]
    },
    {
     "name": "stdout",
     "output_type": "stream",
     "text": [
      "MapDataset\n",
      "----------\n",
      "\n",
      "  Name                            : VUxsZtK4 \n",
      "\n",
      "  Total counts                    : 220623 \n",
      "  Total background counts         : nan\n",
      "  Total excess counts             : nan\n",
      "\n",
      "  Predicted counts                : 1126.45\n",
      "  Predicted background counts     : nan\n",
      "  Predicted excess counts         : 1126.45\n",
      "\n",
      "  Exposure min                    : 5.73e+07 cm2 s\n",
      "  Exposure max                    : 1.50e+09 cm2 s\n",
      "\n",
      "  Number of total bins            : 196608 \n",
      "  Number of fit bins              : 0 \n",
      "\n",
      "  Fit statistic type              : cash\n",
      "  Fit statistic value (-2 log(L)) : 23108583.44\n",
      "\n",
      "  Number of models                : 1 \n",
      "  Number of parameters            : 5\n",
      "  Number of free parameters       : 4\n",
      "\n",
      "  Component 0: SkyModel\n",
      "  \n",
      "    Name                      : source-gc\n",
      "    Datasets names            : None\n",
      "    Spectral model type       : PowerLawSpectralModel\n",
      "    Spatial  model type       : PointSpatialModel\n",
      "    Temporal model type       : \n",
      "    Parameters:\n",
      "      index                         :      2.700   +/-    0.00             \n",
      "      amplitude                     :   5.80e-10   +/- 0.0e+00 1 / (TeV s cm2)\n",
      "      reference             (frozen):    100.000       GeV         \n",
      "      lon_0                         :      0.000   +/-    0.00 deg         \n",
      "      lat_0                         :      0.000   +/-    0.00 deg         \n",
      "  \n",
      "  \n",
      "MapDataset\n",
      "----------\n",
      "\n",
      "  Name                            : VUxsZtK4 \n",
      "\n",
      "  Total counts                    : 220623 \n",
      "  Total background counts         : 220623.21\n",
      "  Total excess counts             : 0.00\n",
      "\n",
      "  Predicted counts                : 221808.11\n",
      "  Predicted background counts     : 220623.21\n",
      "  Predicted excess counts         : 1126.45\n",
      "\n",
      "  Exposure min                    : 5.73e+07 cm2 s\n",
      "  Exposure max                    : 1.50e+09 cm2 s\n",
      "\n",
      "  Number of total bins            : 196608 \n",
      "  Number of fit bins              : 0 \n",
      "\n",
      "  Fit statistic type              : cash\n",
      "  Fit statistic value (-2 log(L)) : -418432.95\n",
      "\n",
      "  Number of models                : 1 \n",
      "  Number of parameters            : 5\n",
      "  Number of free parameters       : 4\n",
      "\n",
      "  Component 0: SkyModel\n",
      "  \n",
      "    Name                      : source-gc\n",
      "    Datasets names            : None\n",
      "    Spectral model type       : PowerLawSpectralModel\n",
      "    Spatial  model type       : PointSpatialModel\n",
      "    Temporal model type       : \n",
      "    Parameters:\n",
      "      index                         :      2.700   +/-    0.00             \n",
      "      amplitude                     :   5.80e-10   +/- 0.0e+00 1 / (TeV s cm2)\n",
      "      reference             (frozen):    100.000       GeV         \n",
      "      lon_0                         :      0.000   +/-    0.00 deg         \n",
      "      lat_0                         :      0.000   +/-    0.00 deg         \n",
      "  \n",
      "  \n"
     ]
    }
   ],
   "source": [
    "obs_on = add_signal_models(obs_on)\n",
    "obs_on.map_dataset.background = bkg_map\n",
    "print(obs_on.map_dataset)"
   ]
  },
  {
   "cell_type": "code",
   "execution_count": null,
   "metadata": {},
   "outputs": [],
   "source": []
  },
  {
   "cell_type": "code",
   "execution_count": 23,
   "metadata": {},
   "outputs": [
    {
     "name": "stdout",
     "output_type": "stream",
     "text": [
      "MapDataset\n",
      "----------\n",
      "\n",
      "  Name                            : VUxsZtK4 \n",
      "\n",
      "  Total counts                    : 220623 \n",
      "  Total background counts         : nan\n",
      "  Total excess counts             : nan\n",
      "\n",
      "  Predicted counts                : nan\n",
      "  Predicted background counts     : nan\n",
      "  Predicted excess counts         : nan\n",
      "\n",
      "  Exposure min                    : 5.73e+07 cm2 s\n",
      "  Exposure max                    : 1.50e+09 cm2 s\n",
      "\n",
      "  Number of total bins            : 196608 \n",
      "  Number of fit bins              : 0 \n",
      "\n",
      "  Fit statistic type              : cash\n",
      "  Fit statistic value (-2 log(L)) : nan\n",
      "\n",
      "  Number of models                : 0 \n",
      "  Number of parameters            : 0\n",
      "  Number of free parameters       : 0\n",
      "\n",
      "\n"
     ]
    }
   ],
   "source": [
    "print(obs_off.map_dataset)"
   ]
  },
  {
   "cell_type": "code",
   "execution_count": 44,
   "metadata": {},
   "outputs": [
    {
     "name": "stdout",
     "output_type": "stream",
     "text": [
      "PointSpatialModel\n",
      "\n",
      "type  name   value    unit   error      min        max    frozen link prior\n",
      "---- ----- ---------- ---- --------- ---------- --------- ------ ---- -----\n",
      "     lon_0 0.0000e+00  deg 0.000e+00        nan       nan  False           \n",
      "     lat_0 0.0000e+00  deg 0.000e+00 -9.000e+01 9.000e+01  False           \n"
     ]
    }
   ],
   "source": [
    "for i in obs_on.map_dataset.models:\n",
    "    print(i.spatial_model)"
   ]
  },
  {
   "cell_type": "code",
   "execution_count": 57,
   "metadata": {},
   "outputs": [],
   "source": [
    "from astropy.coordinates import SkyCoord, Angle\n",
    "from regions import CircleSkyRegion\n",
    "\n",
    "lon = obs_on.map_dataset.models[0].spatial_model.lon_0.quantity\n",
    "lat = obs_on.map_dataset.models[0].spatial_model.lat_0.quantity\n",
    "frame = obs_on.map_dataset.models[0].spatial_model.frame\n",
    "\n",
    "\n",
    "on_region_spectra = []\n",
    "# SkyCoord に変換\n",
    "on_region = \\\n",
    "                CircleSkyRegion(\n",
    "                    center=SkyCoord(lon, lat, frame=frame),\n",
    "                    radius=Angle(\"1 deg\")\n",
    "                )\n",
    "on_region_spectra.append(\n",
    "                obs_on.map_dataset.to_spectrum_dataset(on_region)\n",
    "            )"
   ]
  },
  {
   "cell_type": "code",
   "execution_count": 61,
   "metadata": {},
   "outputs": [
    {
     "ename": "AttributeError",
     "evalue": "'SkyCoord' object has no attribute 'ra'",
     "output_type": "error",
     "traceback": [
      "\u001b[0;31m---------------------------------------------------------------------------\u001b[0m",
      "\u001b[0;31mAttributeError\u001b[0m                            Traceback (most recent call last)",
      "Cell \u001b[0;32mIn[61], line 30\u001b[0m\n\u001b[1;32m     28\u001b[0m \u001b[39m# モデルの位置をプロット\u001b[39;00m\n\u001b[1;32m     29\u001b[0m \u001b[39mfor\u001b[39;00m coord \u001b[39min\u001b[39;00m positions:\n\u001b[0;32m---> 30\u001b[0m     ax\u001b[39m.\u001b[39mscatter(coord\u001b[39m.\u001b[39;49mra\u001b[39m.\u001b[39mdeg, coord\u001b[39m.\u001b[39mdec\u001b[39m.\u001b[39mdeg, transform\u001b[39m=\u001b[39max\u001b[39m.\u001b[39mget_transform(\u001b[39m\"\u001b[39m\u001b[39micrs\u001b[39m\u001b[39m\"\u001b[39m), color\u001b[39m=\u001b[39m\u001b[39m\"\u001b[39m\u001b[39mred\u001b[39m\u001b[39m\"\u001b[39m, label\u001b[39m=\u001b[39m\u001b[39m\"\u001b[39m\u001b[39mModel Position\u001b[39m\u001b[39m\"\u001b[39m)\n\u001b[1;32m     32\u001b[0m plt\u001b[39m.\u001b[39mlegend()\n\u001b[1;32m     33\u001b[0m plt\u001b[39m.\u001b[39mshow()\n",
      "File \u001b[0;32m~/miniconda3/envs/gammapy-dev/lib/python3.11/site-packages/astropy/coordinates/sky_coordinate.py:750\u001b[0m, in \u001b[0;36mSkyCoord.__getattr__\u001b[0;34m(self, attr)\u001b[0m\n\u001b[1;32m    747\u001b[0m         \u001b[39mreturn\u001b[39;00m \u001b[39mself\u001b[39m\u001b[39m.\u001b[39mtransform_to(attr)\n\u001b[1;32m    749\u001b[0m \u001b[39m# Call __getattribute__; this will give correct exception.\u001b[39;00m\n\u001b[0;32m--> 750\u001b[0m \u001b[39mreturn\u001b[39;00m \u001b[39mself\u001b[39;49m\u001b[39m.\u001b[39;49m\u001b[39m__getattribute__\u001b[39;49m(attr)\n",
      "\u001b[0;31mAttributeError\u001b[0m: 'SkyCoord' object has no attribute 'ra'"
     ]
    },
    {
     "data": {
      "image/png": "[encoded data removed]",
      "text/plain": [
       "<Figure size 640x480 with 2 Axes>"
      ]
     },
     "metadata": {},
     "output_type": "display_data"
    }
   ],
   "source": [
    "import matplotlib.pyplot as plt\n",
    "from gammapy.maps import WcsNDMap\n",
    "from astropy.coordinates import SkyCoord\n",
    "\n",
    "# 仮の MapDataset を作成（実際は読み込んだり解析の結果を使用）\n",
    "map_dataset = obs_on.map_dataset\n",
    "\n",
    "# モデルの位置を取得\n",
    "positions = []\n",
    "for model in map_dataset.models:\n",
    "    if hasattr(model, \"spatial_model\") and model.spatial_model is not None:\n",
    "        spatial_model = model.spatial_model\n",
    "        lon = spatial_model.lon_0.quantity\n",
    "        lat = spatial_model.lat_0.quantity\n",
    "        frame = getattr(spatial_model, \"frame\", \"icrs\")\n",
    "        coord = SkyCoord(lon, lat, frame=frame)\n",
    "        positions.append(coord)\n",
    "\n",
    "# ベースマップの準備（例: MapDataset の背景マップ）\n",
    "geom = map_dataset.counts.geom  # Map のジオメトリを取得\n",
    "background_map = map_dataset.background\n",
    "wcs_map = WcsNDMap.from_geom(geom, data=background_map.data)\n",
    "\n",
    "# プロット\n",
    "fig, ax = plt.subplots(subplot_kw={\"projection\": wcs_map.geom.wcs})\n",
    "wcs_map.plot(ax=ax, add_cbar=True)\n",
    "\n",
    "# モデルの位置をプロット\n",
    "for coord in positions:\n",
    "    ax.scatter(coord.ra.deg, coord.dec.deg, transform=ax.get_transform(\"icrs\"), color=\"red\", label=\"Model Position\")\n",
    "\n",
    "plt.legend()\n",
    "plt.show()\n"
   ]
  },
  {
   "cell_type": "code",
   "execution_count": 3,
   "metadata": {},
   "outputs": [
    {
     "data": {
      "text/html": [
       "<pre>Models\n",
       "\n",
       "Component 0: SkyModel\n",
       "\n",
       "  Name                      : 4FTVfFMw\n",
       "  Datasets names            : None\n",
       "  Spectral model type       : CompoundSpectralModel\n",
       "  Spatial  model type       : PointSpatialModel\n",
       "  Temporal model type       : \n",
       "  Parameters:\n",
       "    lon_0                         :     33.429   +/-    0.00 deg         \n",
       "    lat_0                         :    -73.961   +/-    0.00 deg         \n",
       "\n",
       "</pre>"
      ],
      "text/plain": [
       "<gammapy.modeling.models.core.Models at 0x1067534f0>"
      ]
     },
     "execution_count": 3,
     "metadata": {},
     "output_type": "execute_result"
    }
   ],
   "source": [
    "pbh.create_time_window_average_models()"
   ]
  },
  {
   "cell_type": "code",
   "execution_count": null,
   "metadata": {},
   "outputs": [],
   "source": [
    "pbh."
   ]
  },
  {
   "cell_type": "code",
   "execution_count": 4,
   "metadata": {},
   "outputs": [],
   "source": [
    "from astropy.time import Time\n",
    "from astropy import units as u\n",
    "distance=0.1*u.pc\n",
    "tstart=\"2000-01-01\"\n",
    "tstop=\"2010-01-01\"\n",
    "particle_list=[\"photon\"]"
   ]
  },
  {
   "cell_type": "code",
   "execution_count": 5,
   "metadata": {},
   "outputs": [
    {
     "data": {
      "text/plain": [
       "315619202.0"
      ]
     },
     "execution_count": 5,
     "metadata": {},
     "output_type": "execute_result"
    }
   ],
   "source": [
    "time_interval = Time(tstop) - Time(tstart)\n",
    "time_interval.sec"
   ]
  },
  {
   "cell_type": "code",
   "execution_count": 6,
   "metadata": {},
   "outputs": [
    {
     "data": {
      "text/plain": [
       "<TimeDelta object: scale='tai' format='jd' value=356.03732697916666>"
      ]
     },
     "execution_count": 6,
     "metadata": {},
     "output_type": "execute_result"
    }
   ],
   "source": [
    "pbh_initial_lifetime = Time(pbh.state_history[\"evaporated_time\"][0]) - Time(tstart)\n",
    "pbh_initial_lifetime"
   ]
  },
  {
   "cell_type": "code",
   "execution_count": 7,
   "metadata": {},
   "outputs": [
    {
     "data": {
      "text/plain": [
       "<Time object: scale='utc' format='iso' value=2000-01-01 00:00:00.000>"
      ]
     },
     "execution_count": 7,
     "metadata": {},
     "output_type": "execute_result"
    }
   ],
   "source": [
    "Time(tstart)"
   ]
  },
  {
   "cell_type": "code",
   "execution_count": 8,
   "metadata": {},
   "outputs": [
    {
     "name": "stdout",
     "output_type": "stream",
     "text": [
      "b\n"
     ]
    }
   ],
   "source": [
    "if Time(tstart)+pbh_initial_lifetime < Time(tstart):\n",
    "    print('a')\n",
    "else:\n",
    "    print('b')"
   ]
  },
  {
   "cell_type": "code",
   "execution_count": 9,
   "metadata": {},
   "outputs": [],
   "source": [
    "if Time(tstart)+pbh_initial_lifetime < Time(tstart):\n",
    "    pass\n",
    "else:\n",
    "    str_idx = pbh.hawking_radiation._dts['rt'][\n",
    "                pbh.hawking_radiation._dts['rt'] >= pbh_initial_lifetime\n",
    "            ].argmin()\n",
    "    \n",
    "    if pbh.hawking_radiation._dts['rt'][str_idx] == pbh_initial_lifetime:\n",
    "        time_factor = 0\n",
    "    else:\n",
    "        excess_time = pbh.hawking_radiation._dts['rt'][str_idx] - (pbh_initial_lifetime.sec * u.s)\n",
    "        time_step = pbh.hawking_radiation._dts['rt'][str_idx] - pbh.hawking_radiation._dts['rt'][str_idx+1]\n",
    "        time_factor = (time_step - excess_time) / time_step"
   ]
  },
  {
   "cell_type": "code",
   "execution_count": 10,
   "metadata": {},
   "outputs": [
    {
     "data": {
      "text/latex": [
       "$0.52868261 \\; \\mathrm{}$"
      ],
      "text/plain": [
       "<Quantity 0.52868261>"
      ]
     },
     "execution_count": 10,
     "metadata": {},
     "output_type": "execute_result"
    }
   ],
   "source": [
    "time_factor"
   ]
  },
  {
   "cell_type": "code",
   "execution_count": 11,
   "metadata": {},
   "outputs": [],
   "source": [
    "import numpy as np"
   ]
  },
  {
   "cell_type": "code",
   "execution_count": 12,
   "metadata": {},
   "outputs": [],
   "source": [
    "# particleごとのスペクトルモデルの作成\n",
    "for i, particle in enumerate(['photon']):\n",
    "\n",
    "    # primary成分とsecondary成分ごとにエネルギーとフラックスを抽出\n",
    "    component_energy_array = {}\n",
    "    component_spectra_array = {}\n",
    "    for component in [\"primary\",\"secondary\"]:\n",
    "        spectra_table = \\\n",
    "            pbh.hawking_radiation.integral_radiation_spectra[f\"{particle}_{component}\"][str_idx:]\n",
    "        \n",
    "        energy_bins = np.array([\n",
    "            u.Quantity(colname).to(u.GeV).value for colname in spectra_table.colnames[1:]\n",
    "        ]) * u.GeV\n",
    "        component_energy_array[component] = energy_bins\n",
    "        \n",
    "        spectra_list = []\n",
    "        for colname in spectra_table.colnames[1:]:\n",
    "            #TODO:合ってるか確認\n",
    "            # Convert from 1/(GeV cm3) to count number/GeV\n",
    "            # 最初の行（str_idx）の値にはtime_factorをかける\n",
    "            col_zeroed = (spectra_table[colname][0] * time_factor * u.cm**3).to(u.GeV**(-1)).value\n",
    "            # 最初の行を除外して合計\n",
    "            col_after_zeroed = np.sum((spectra_table[colname][1:] * u.cm**3).to(u.GeV**(-1)).value)\n",
    "            \n",
    "            spectra_list.append(\n",
    "                (col_zeroed + col_after_zeroed)\n",
    "            )\n",
    "        component_spectra_array[component] = np.array(spectra_list).T * u.GeV**(-1)"
   ]
  },
  {
   "cell_type": "code",
   "execution_count": 17,
   "metadata": {},
   "outputs": [
    {
     "data": {
      "text/plain": [
       "(599,)"
      ]
     },
     "execution_count": 17,
     "metadata": {},
     "output_type": "execute_result"
    }
   ],
   "source": [
    "np.shape(component_spectra_array['primary'])"
   ]
  },
  {
   "cell_type": "code",
   "execution_count": 18,
   "metadata": {},
   "outputs": [
    {
     "data": {
      "text/plain": [
       "(599,)"
      ]
     },
     "execution_count": 18,
     "metadata": {},
     "output_type": "execute_result"
    }
   ],
   "source": [
    "np.shape(component_energy_array['primary'])"
   ]
  },
  {
   "cell_type": "code",
   "execution_count": 14,
   "metadata": {},
   "outputs": [
    {
     "data": {
      "text/plain": [
       "315619202.0"
      ]
     },
     "execution_count": 14,
     "metadata": {},
     "output_type": "execute_result"
    }
   ],
   "source": [
    "time_interval.sec"
   ]
  }
 ],
 "metadata": {
  "kernelspec": {
   "display_name": "fermipy",
   "language": "python",
   "name": "python3"
  },
  "language_info": {
   "codemirror_mode": {
    "name": "ipython",
    "version": 3
   },
   "file_extension": ".py",
   "mimetype": "text/x-python",
   "name": "python",
   "nbconvert_exporter": "python",
   "pygments_lexer": "ipython3",
   "version": "3.11.10"
  },
  "orig_nbformat": 4
 },
 "nbformat": 4,
 "nbformat_minor": 2
}
